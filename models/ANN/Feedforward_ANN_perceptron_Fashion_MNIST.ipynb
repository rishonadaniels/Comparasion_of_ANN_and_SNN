{
  "cells": [
    {
      "cell_type": "code",
      "execution_count": null,
      "metadata": {
        "id": "2RiKFT5sIFeq"
      },
      "outputs": [],
      "source": [
        "import torch\n",
        "import torch.nn as nn\n",
        "import torch.optim as optim\n",
        "import torchvision\n",
        "import torchvision.transforms as transforms\n",
        "import time\n",
        "import os\n",
        "import matplotlib.pyplot as plt"
      ]
    },
    {
      "cell_type": "code",
      "execution_count": null,
      "metadata": {
        "id": "PpDVoaxQIPkA"
      },
      "outputs": [],
      "source": [
        "# Hyperparameters\n",
        "input_size = 28 * 28  # Fashion-MNIST images are 28x28 pixels\n",
        "hidden_size = 256\n",
        "num_classes = 10\n",
        "num_epochs = 20\n",
        "batch_size = 64\n",
        "learning_rate = 0.001"
      ]
    },
    {
      "cell_type": "code",
      "execution_count": null,
      "metadata": {
        "id": "4rrLK-efIThr"
      },
      "outputs": [],
      "source": [
        "# Load the Fashion-MNIST dataset\n",
        "transform = transforms.Compose([\n",
        "    transforms.ToTensor(),\n",
        "    transforms.Normalize((0.5,), (0.5,))\n",
        "])\n",
        "\n",
        "train_dataset = torchvision.datasets.FashionMNIST(root='./data', train=True, transform=transform, download=True)\n",
        "test_dataset = torchvision.datasets.FashionMNIST(root='./data', train=False, transform=transform, download=True)\n",
        "\n",
        "train_loader = torch.utils.data.DataLoader(dataset=train_dataset, batch_size=batch_size, shuffle=True)\n",
        "test_loader = torch.utils.data.DataLoader(dataset=test_dataset, batch_size=batch_size, shuffle=False)"
      ]
    },
    {
      "cell_type": "code",
      "execution_count": null,
      "metadata": {
        "id": "WY1wM8VpIa2T"
      },
      "outputs": [],
      "source": [
        "# Define the model\n",
        "class FashionANN(nn.Module):\n",
        "    def __init__(self, input_size, hidden_size, num_classes):\n",
        "        super(FashionANN, self).__init__()\n",
        "        self.fc1 = nn.Linear(input_size, hidden_size)\n",
        "        self.bn1 = nn.BatchNorm1d(hidden_size)\n",
        "        self.relu1 = nn.LeakyReLU(negative_slope=0.01)\n",
        "        self.fc2 = nn.Linear(hidden_size, hidden_size)\n",
        "        self.bn2 = nn.BatchNorm1d(hidden_size)\n",
        "        self.relu2 = nn.LeakyReLU(negative_slope=0.01)\n",
        "        self.fc3 = nn.Linear(hidden_size, num_classes)\n",
        "\n",
        "    def forward(self, x):\n",
        "        x = self.fc1(x)\n",
        "        x = self.bn1(x)\n",
        "        x = self.relu1(x)\n",
        "        x = self.fc2(x)\n",
        "        x = self.bn2(x)\n",
        "        x = self.relu2(x)\n",
        "        x = self.fc3(x)\n",
        "        return x\n"
      ]
    },
    {
      "cell_type": "code",
      "execution_count": null,
      "metadata": {
        "id": "Iqdh5-yiIeE3"
      },
      "outputs": [],
      "source": [
        "# Initialize the model, loss function, and optimizer\n",
        "model = FashionANN(input_size, hidden_size, num_classes)\n",
        "criterion = nn.CrossEntropyLoss()\n",
        "optimizer = optim.Adam(model.parameters(), lr=learning_rate)\n",
        "#optimizer = optim.SGD(model.parameters(), lr=learning_rate, momentum=0.9)\n",
        "\n",
        "\n",
        "\n",
        "training_accuracies = []\n",
        "\n",
        "def train():\n",
        "    model.train()\n",
        "    for epoch in range(num_epochs):\n",
        "        correct = 0\n",
        "        total = 0\n",
        "        for batch_idx, (images, labels) in enumerate(train_loader):\n",
        "            # Flatten images from (batch_size, 1, 28, 28) to (batch_size, 784)\n",
        "            images = images.view(-1, 28*28)\n",
        "\n",
        "            # Forward pass\n",
        "            outputs = model(images)\n",
        "            loss = criterion(outputs, labels)\n",
        "\n",
        "            # Backward pass and optimization\n",
        "            optimizer.zero_grad()\n",
        "            loss.backward()\n",
        "            optimizer.step()\n",
        "\n",
        "            # Calculate training accuracy\n",
        "            _, predicted = torch.max(outputs, 1)\n",
        "            total += labels.size(0)\n",
        "            correct += (predicted == labels).sum().item()\n",
        "\n",
        "        training_accuracy = 100 * correct / total\n",
        "        training_accuracies.append(training_accuracy)  # Store accuracy for this epoch\n",
        "        print(f\"Epoch [{epoch + 1}/{num_epochs}], Loss: {loss.item():.4f}, Training Accuracy: {training_accuracy:.2f}%\")\n",
        "\n",
        "\n",
        "def test():\n",
        "    model.eval()\n",
        "    correct = 0\n",
        "    total = 0\n",
        "    with torch.no_grad():\n",
        "        for images, labels in test_loader:\n",
        "            images = images.view(-1, 28 * 28)\n",
        "            outputs = model(images)\n",
        "            _, predicted = torch.max(outputs.data, 1)\n",
        "            total += labels.size(0)\n",
        "            correct += (predicted == labels).sum().item()\n",
        "\n",
        "    accuracy = 100 * correct / total\n",
        "    print(f'Accuracy on the test set: {accuracy:.2f}%')\n",
        "\n",
        "\n",
        "\n",
        "\n",
        "\n",
        "\n",
        "if __name__ == \"__main__\":\n",
        "    train()\n",
        "    start_time = time.time()\n",
        "    test()\n",
        "    end_time = time.time()\n",
        "    inference_time = end_time - start_time\n",
        "    print(f\"Inference time: {inference_time:.2f} seconds for the entire test set\")\n",
        "\n",
        "    per_sample_inference_time = inference_time / len(test_dataset)\n",
        "    print(f\"Inference time per sample: {per_sample_inference_time:.6f} seconds\")\n",
        "\n",
        "    # Measure model size\n",
        "    model_path = \"fashion_ann.pth\"\n",
        "    torch.save(model.state_dict(), model_path)\n",
        "    model_size = os.path.getsize(model_path) / (1024 * 1024)  # Convert bytes to MB\n",
        "    print(f\"Model size: {model_size:.2f} MB\")\n",
        "\n",
        "    # Plot training accuracy\n",
        "    plt.figure(figsize=(8, 6))\n",
        "    plt.plot(range(1, num_epochs + 1), training_accuracies, marker='o', linestyle='-', color='b')\n",
        "    plt.xlabel('Epoch')\n",
        "    plt.ylabel('Training Accuracy (%)')\n",
        "    plt.title('Training Accuracy Over Epochs')\n",
        "    plt.grid()\n",
        "    plt.show()"
      ]
    }
  ],
  "metadata": {
    "colab": {
      "provenance": []
    },
    "kernelspec": {
      "display_name": "Python 3",
      "name": "python3"
    },
    "language_info": {
      "name": "python"
    }
  },
  "nbformat": 4,
  "nbformat_minor": 0
}