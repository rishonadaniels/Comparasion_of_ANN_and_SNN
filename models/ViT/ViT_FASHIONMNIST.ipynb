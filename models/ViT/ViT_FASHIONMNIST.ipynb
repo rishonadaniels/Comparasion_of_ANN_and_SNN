{
  "nbformat": 4,
  "nbformat_minor": 0,
  "metadata": {
    "colab": {
      "provenance": [],
      "gpuType": "T4"
    },
    "kernelspec": {
      "name": "python3",
      "display_name": "Python 3"
    },
    "language_info": {
      "name": "python"
    },
    "accelerator": "GPU"
  },
  "cells": [
    {
      "cell_type": "code",
      "source": [
        "pip install torch torchvision"
      ],
      "metadata": {
        "collapsed": true,
        "id": "8fl760n1xJFZ"
      },
      "execution_count": null,
      "outputs": []
    },
    {
      "cell_type": "code",
      "source": [
        "!pip uninstall -y torch torchvision torchaudio\n",
        "!pip install torch torchvision torchaudio\n"
      ],
      "metadata": {
        "id": "e1yyjRr_y6oQ"
      },
      "execution_count": null,
      "outputs": []
    },
    {
      "cell_type": "code",
      "source": [
        "import torch\n",
        "import torchvision\n",
        "from torchvision import transforms, datasets\n",
        "\n",
        "print(\"Torch and Torchvision are working correctly\")\n"
      ],
      "metadata": {
        "id": "XnBDZn9azK7T"
      },
      "execution_count": null,
      "outputs": []
    },
    {
      "cell_type": "code",
      "source": [
        "# Imports\n",
        "import torch\n",
        "import torch.nn as nn\n",
        "import torch.optim as optim\n",
        "import torchvision\n",
        "from torchvision import datasets, transforms, models\n",
        "from torch.utils.data import DataLoader\n",
        "import time"
      ],
      "metadata": {
        "id": "uLHd8eU6w9Cf"
      },
      "execution_count": null,
      "outputs": []
    },
    {
      "cell_type": "code",
      "source": [
        "# Check if GPU is available\n",
        "device = torch.device(\"cuda\" if torch.cuda.is_available() else \"cpu\")\n",
        "print(f\"Using device: {device}\")"
      ],
      "metadata": {
        "id": "aacuWjZGxPh3"
      },
      "execution_count": null,
      "outputs": []
    },
    {
      "cell_type": "code",
      "source": [
        "# 1️⃣ Hyperparameters\n",
        "# -----------------------------\n",
        "num_classes = 10\n",
        "num_epochs = 2\n",
        "batch_size = 32\n",
        "learning_rate = 0.0001  # Lower LR for fine-tuning\n",
        "weight_decay = 1e-4  # Regularization\n",
        "momentum = 0.9  # For SGD (if used instead of Adam)\n"
      ],
      "metadata": {
        "id": "MXbuuAg6xTCT"
      },
      "execution_count": null,
      "outputs": []
    },
    {
      "cell_type": "code",
      "source": [
        "# 2️⃣ Load Dataset\n",
        "# -----------------------------\n",
        "train_transform = transforms.Compose([\n",
        "    transforms.RandomResizedCrop(224),  # Resize to 224x224 (ViT input size)\n",
        "    transforms.RandomHorizontalFlip(),\n",
        "    transforms.AutoAugment(policy=transforms.AutoAugmentPolicy.CIFAR10),  # Stronger augmentation\n",
        "    transforms.ToTensor(),\n",
        "    transforms.Normalize((0.5, 0.5, 0.5), (0.5, 0.5, 0.5))\n",
        "])\n",
        "\n",
        "test_transform = transforms.Compose([\n",
        "    transforms.Resize(224),  # Resize test images to 224x224\n",
        "    transforms.ToTensor(),\n",
        "    transforms.Normalize((0.5, 0.5, 0.5), (0.5, 0.5, 0.5))\n",
        "])\n",
        "\n",
        "train_dataset = datasets.CIFAR10(root='./data', train=True, download=True, transform=train_transform)\n",
        "test_dataset = datasets.CIFAR10(root='./data', train=False, download=True, transform=test_transform)\n",
        "\n",
        "train_loader = DataLoader(train_dataset, batch_size=batch_size, shuffle=True, num_workers=2, pin_memory=True)\n",
        "test_loader = DataLoader(test_dataset, batch_size=batch_size, shuffle=False, num_workers=2, pin_memory=True)\n"
      ],
      "metadata": {
        "id": "pOURYOd5xXjF"
      },
      "execution_count": null,
      "outputs": []
    },
    {
      "cell_type": "code",
      "source": [
        "# dataloader arguments\n",
        "batch_size = 32\n",
        "data_path='/tmp/data/Fmnist'\n",
        "\n",
        "dtype = torch.float\n",
        "device = torch.device(\"cuda\") if torch.cuda.is_available() else torch.device(\"mps\") if torch.backends.mps.is_available() else torch.device(\"cpu\")\n",
        "\n",
        "import torchvision.transforms as transforms\n",
        "\n",
        "train_transform = transforms.Compose([\n",
        "    transforms.Resize(224),\n",
        "    transforms.Grayscale(num_output_channels=3),\n",
        "    transforms.RandomHorizontalFlip(p=0.5),\n",
        "    transforms.RandomRotation(15),\n",
        "    transforms.RandomAffine(degrees=0, translate=(0.1, 0.1)),\n",
        "    transforms.ToTensor(),\n",
        "    transforms.Normalize((0.5,), (0.5,))\n",
        "])\n",
        "\n",
        "\n",
        "\n",
        "test_transform = transforms.Compose([\n",
        "    transforms.Resize(224),\n",
        "    transforms.Grayscale(num_output_channels=3),\n",
        "    transforms.ToTensor(),\n",
        "    transforms.Normalize((0.5,), (0.5,))\n",
        "])\n",
        "\n",
        "\n",
        "train_dataset = torchvision.datasets.FashionMNIST(root='./data', train=True, transform=train_transform, download=True)\n",
        "test_dataset = torchvision.datasets.FashionMNIST(root='./data', train=False, transform=test_transform, download=True)\n",
        "\n",
        "# Create DataLoaders\n",
        "train_loader = DataLoader(train_dataset, batch_size=batch_size, shuffle=True, drop_last=True)\n",
        "test_loader = DataLoader(test_dataset, batch_size=batch_size, shuffle=True, drop_last=True)"
      ],
      "metadata": {
        "id": "bEuvq30FzxpX"
      },
      "execution_count": null,
      "outputs": []
    },
    {
      "cell_type": "code",
      "source": [
        "# 3️⃣ Load Pretrained ViT Model\n",
        "# -----------------------------\n",
        "model = models.vit_b_16(pretrained=True)\n",
        "model.heads.head = nn.Linear(model.heads.head.in_features, num_classes)\n",
        "model = model.to(device)"
      ],
      "metadata": {
        "id": "bE5aVGy7z_xF"
      },
      "execution_count": null,
      "outputs": []
    },
    {
      "cell_type": "code",
      "execution_count": null,
      "metadata": {
        "id": "clpxy8GB3W-r"
      },
      "outputs": [],
      "source": [
        "# Loss Function & Optimizer\n",
        "criterion = nn.CrossEntropyLoss()\n",
        "optimizer = optim.Adam(model.parameters(), lr=learning_rate, weight_decay=weight_decay)\n",
        "num_epochs = 1\n",
        "# -----------------------------\n",
        "# 4️⃣ Fine-Tuning Function\n",
        "# -----------------------------\n",
        "training_accuracies = []\n",
        "\n",
        "def train():\n",
        "    model.train()\n",
        "    for epoch in range(num_epochs):\n",
        "        correct = 0\n",
        "        total = 0\n",
        "        running_loss = 0.0\n",
        "\n",
        "        for batch_idx, (images, labels) in enumerate(train_loader):\n",
        "            images, labels = images.to(device), labels.to(device)\n",
        "            outputs = model(images)\n",
        "            loss = criterion(outputs, labels)\n",
        "            running_loss += loss.item()\n",
        "\n",
        "            # Backward pass\n",
        "            optimizer.zero_grad()\n",
        "            loss.backward()\n",
        "            optimizer.step()\n",
        "\n",
        "            # Compute training accuracy\n",
        "            _, predicted = torch.max(outputs, 1)\n",
        "            total += labels.size(0)\n",
        "            correct += (predicted == labels).sum().item()\n",
        "\n",
        "        training_accuracy = 100 * correct / total\n",
        "        training_accuracies.append(training_accuracy)\n",
        "        print(f\"Epoch [{epoch + 1}/{num_epochs}], Loss: {running_loss/len(train_loader):.4f}, Training Accuracy: {training_accuracy:.2f}%\")\n",
        "\n",
        "# -----------------------------\n",
        "# 5️⃣ Evaluation Function\n",
        "# -----------------------------\n",
        "def test():\n",
        "    model.eval()\n",
        "    correct = 0\n",
        "    total = 0\n",
        "    with torch.no_grad():\n",
        "        for images, labels in test_loader:\n",
        "            images, labels = images.to(device), labels.to(device)\n",
        "            outputs = model(images)\n",
        "            _, predicted = torch.max(outputs.data, 1)\n",
        "            total += labels.size(0)\n",
        "            correct += (predicted == labels).sum().item()\n",
        "\n",
        "    accuracy = 100 * correct / total\n",
        "    print(f'Accuracy on the test set: {accuracy:.2f}%')\n",
        "\n",
        "# -----------------------------\n",
        "# 6️⃣ Main Loop (Train & Test)\n",
        "# -----------------------------\n",
        "if __name__ == \"__main__\":\n",
        "    # Measure training time\n",
        "    start_time = time.time()\n",
        "    train()\n",
        "    end_time = time.time()\n",
        "    training_time = end_time - start_time\n",
        "    print(f\"Training time: {training_time:.2f} seconds\")\n",
        "\n",
        "    # Measure inference time\n",
        "    start_time = time.time()\n",
        "    test()\n",
        "    end_time = time.time()\n",
        "    inference_time = end_time - start_time\n",
        "    print(f\"Inference time: {inference_time:.2f} seconds for the entire test set\")\n",
        "\n",
        "    # Calculate per-sample inference time\n",
        "    per_sample_inference_time = inference_time / len(test_dataset)\n",
        "    print(f\"Inference time per sample: {per_sample_inference_time:.6f} seconds\")\n"
      ]
    },
    {
      "cell_type": "code",
      "source": [
        "import os\n",
        "# Save the model to a file\n",
        "model_path = \"vit_cifar10.pth\"\n",
        "torch.save(model.state_dict(), model_path)\n",
        "\n",
        "# Measure the size of the model file\n",
        "model_size = os.path.getsize(model_path) / (1024 * 1024)\n",
        "print(f\"Model size: {model_size:.2f} MB\")"
      ],
      "metadata": {
        "id": "QzizFuxysK_v"
      },
      "execution_count": null,
      "outputs": []
    }
  ]
}