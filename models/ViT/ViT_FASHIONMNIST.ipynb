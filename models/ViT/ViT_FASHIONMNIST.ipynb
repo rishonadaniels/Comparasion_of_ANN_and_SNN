{
  "nbformat": 4,
  "nbformat_minor": 0,
  "metadata": {
    "colab": {
      "provenance": [],
      "gpuType": "T4"
    },
    "kernelspec": {
      "name": "python3",
      "display_name": "Python 3"
    },
    "language_info": {
      "name": "python"
    },
    "accelerator": "GPU"
  },
  "cells": [
    {
      "cell_type": "code",
      "source": [
        "pip install torch torchvision"
      ],
      "metadata": {
        "collapsed": true,
        "id": "8fl760n1xJFZ"
      },
      "execution_count": null,
      "outputs": []
    },
    {
      "cell_type": "code",
      "source": [
        "# Imports\n",
        "import torch\n",
        "import torch.nn as nn\n",
        "import torch.optim as optim\n",
        "import torchvision\n",
        "from torchvision import datasets, transforms, models\n",
        "from torch.utils.data import DataLoader\n",
        "import time"
      ],
      "metadata": {
        "id": "S227Ns0dMDXT"
      },
      "execution_count": null,
      "outputs": []
    },
    {
      "cell_type": "code",
      "source": [
        "# Check if GPU (CUDA), MPS (Apple Silicon) is available; otherwise, use CPU\n",
        "device = torch.device(\"cuda\" if torch.cuda.is_available()\n",
        "                      else \"mps\" if torch.backends.mps.is_available()\n",
        "                      else \"cpu\")\n",
        "print(f\"Using device: {device}\")"
      ],
      "metadata": {
        "id": "olN0Sx3QMFEx"
      },
      "execution_count": null,
      "outputs": []
    },
    {
      "cell_type": "code",
      "source": [
        "# 1️⃣ Hyperparameters\n",
        "num_classes = 10          # FashionMNIST has 10 classes\n",
        "num_epochs = 2            # Number of epochs (adjust as needed)\n",
        "batch_size = 32\n",
        "learning_rate = 0.0001    # Lower learning rate for fine-tuning\n",
        "weight_decay = 1e-4       # Regularization factor"
      ],
      "metadata": {
        "id": "dG3LdxlvMG2b"
      },
      "execution_count": null,
      "outputs": []
    },
    {
      "cell_type": "code",
      "source": [
        "# 2️⃣ Define Transforms for FashionMNIST\n",
        "# FashionMNIST images are 28x28 and grayscale.\n",
        "# We resize them to 224x224 and convert to 3 channels (RGB) to match the ViT input requirements.\n",
        "train_transform = transforms.Compose([\n",
        "    transforms.Resize(224),  # Resize image to 224x224\n",
        "    transforms.Grayscale(num_output_channels=3),  # Convert grayscale to 3-channel RGB\n",
        "    transforms.RandomHorizontalFlip(p=0.5),  # Apply random horizontal flip\n",
        "    transforms.RandomRotation(15),  # Random rotation within ±15 degrees\n",
        "    transforms.RandomAffine(degrees=0, translate=(0.1, 0.1)),  # Random translation\n",
        "    transforms.ToTensor(),  # Convert image to tensor\n",
        "    transforms.Normalize((0.5, 0.5, 0.5), (0.5, 0.5, 0.5))  # Normalize pixel values to [-1, 1]\n",
        "])\n",
        "\n",
        "test_transform = transforms.Compose([\n",
        "    transforms.Resize(224),  # Resize image to 224x224\n",
        "    transforms.Grayscale(num_output_channels=3),  # Convert grayscale to 3-channel RGB\n",
        "    transforms.ToTensor(),  # Convert image to tensor\n",
        "    transforms.Normalize((0.5, 0.5, 0.5), (0.5, 0.5, 0.5))  # Normalize pixel values to [-1, 1]\n",
        "])"
      ],
      "metadata": {
        "id": "Rsc88aT6MPey"
      },
      "execution_count": null,
      "outputs": []
    },
    {
      "cell_type": "code",
      "source": [
        "# Load FashionMNIST dataset\n",
        "train_dataset = datasets.FashionMNIST(root='./data', train=True, download=True, transform=train_transform)\n",
        "test_dataset  = datasets.FashionMNIST(root='./data', train=False, download=True, transform=test_transform)\n",
        "\n",
        "# Create DataLoaders for training and testing\n",
        "train_loader = DataLoader(train_dataset, batch_size=batch_size, shuffle=True, drop_last=True)\n",
        "test_loader  = DataLoader(test_dataset, batch_size=batch_size, shuffle=False, drop_last=True)"
      ],
      "metadata": {
        "id": "GkBsBED4MR_S"
      },
      "execution_count": null,
      "outputs": []
    },
    {
      "cell_type": "code",
      "source": [
        "# 3️⃣ Load Pretrained ViT Model and Adjust the Classification Head\n",
        "# We load a pretrained ViT model and modify its classification head to output 10 classes (for FashionMNIST)\n",
        "model = models.vit_b_16(pretrained=True)\n",
        "model.heads.head = nn.Linear(model.heads.head.in_features, num_classes)  # Update final layer for FashionMNIST\n",
        "model = model.to(device)"
      ],
      "metadata": {
        "id": "KQzCQCbfMTum"
      },
      "execution_count": null,
      "outputs": []
    },
    {
      "cell_type": "code",
      "source": [
        "# Define Loss Function and Optimizer\n",
        "criterion = nn.CrossEntropyLoss()\n",
        "optimizer = optim.Adam(model.parameters(), lr=learning_rate, weight_decay=weight_decay)\n",
        "\n",
        "# 4️⃣ Training Function\n",
        "def train():\n",
        "    model.train()  # Set the model to training mode\n",
        "    for epoch in range(num_epochs):\n",
        "        running_loss = 0.0\n",
        "        correct = 0\n",
        "        total = 0\n",
        "\n",
        "        for batch_idx, (images, labels) in enumerate(train_loader):\n",
        "            images, labels = images.to(device), labels.to(device)\n",
        "\n",
        "            # Forward pass\n",
        "            outputs = model(images)\n",
        "            loss = criterion(outputs, labels)\n",
        "            running_loss += loss.item()\n",
        "\n",
        "            # Backward pass and optimization\n",
        "            optimizer.zero_grad()\n",
        "            loss.backward()\n",
        "            optimizer.step()\n",
        "\n",
        "            # Calculate training accuracy\n",
        "            _, predicted = torch.max(outputs, 1)\n",
        "            total += labels.size(0)\n",
        "            correct += (predicted == labels).sum().item()\n",
        "\n",
        "        training_accuracy = 100 * correct / total\n",
        "        print(f\"Epoch [{epoch+1}/{num_epochs}], Loss: {running_loss/len(train_loader):.4f}, Training Accuracy: {training_accuracy:.2f}%\")\n",
        "\n",
        "# 5️⃣ Evaluation Function\n",
        "def test():\n",
        "    model.eval()  # Set the model to evaluation mode\n",
        "    correct = 0\n",
        "    total = 0\n",
        "    with torch.no_grad():  # Disable gradient computation for inference\n",
        "        for images, labels in test_loader:\n",
        "            images, labels = images.to(device), labels.to(device)\n",
        "            outputs = model(images)\n",
        "            _, predicted = torch.max(outputs, 1)\n",
        "            total += labels.size(0)\n",
        "            correct += (predicted == labels).sum().item()\n",
        "\n",
        "    accuracy = 100 * correct / total\n",
        "    print(f'Accuracy on the test set: {accuracy:.2f}%')\n",
        "\n",
        "# 6️⃣ Main Loop (Training & Testing)\n",
        "if __name__ == \"__main__\":\n",
        "    # Measure training time\n",
        "    start_time = time.time()\n",
        "    train()\n",
        "    end_time = time.time()\n",
        "    training_time = end_time - start_time\n",
        "    print(f\"Training time: {training_time:.2f} seconds\")\n",
        "\n",
        "    # Measure inference time on the test set\n",
        "    start_time = time.time()\n",
        "    test()\n",
        "    end_time = time.time()\n",
        "    inference_time = end_time - start_time\n",
        "    print(f\"Inference time: {inference_time:.2f} seconds for the entire test set\")\n",
        "\n",
        "    # Calculate per-sample inference time\n",
        "    per_sample_inference_time = inference_time / len(test_dataset)\n",
        "    print(f\"Inference time per sample: {per_sample_inference_time:.6f} seconds\")\n"
      ],
      "metadata": {
        "id": "uLHd8eU6w9Cf"
      },
      "execution_count": null,
      "outputs": []
    },
    {
      "cell_type": "code",
      "source": [
        "import os\n",
        "# Save the model to a file\n",
        "model_path = \"vit_FashionMNIST.pth\"\n",
        "torch.save(model.state_dict(), model_path)\n",
        "\n",
        "# Measure the size of the model file\n",
        "model_size = os.path.getsize(model_path) / (1024 * 1024)\n",
        "print(f\"Model size: {model_size:.2f} MB\")"
      ],
      "metadata": {
        "id": "QzizFuxysK_v"
      },
      "execution_count": null,
      "outputs": []
    }
  ]
}