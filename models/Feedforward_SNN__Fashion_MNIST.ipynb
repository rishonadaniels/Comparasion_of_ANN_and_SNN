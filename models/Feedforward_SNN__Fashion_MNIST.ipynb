{
 "cells": [
  {
   "cell_type": "code",
   "execution_count": 1,
   "metadata": {
    "colab": {
     "base_uri": "https://localhost:8080/"
    },
    "id": "zRuZg4zhtQpF",
    "outputId": "924f87d6-f9ac-46df-9aac-2c90f0be39ba"
   },
   "outputs": [
    {
     "name": "stdout",
     "output_type": "stream",
     "text": [
      "Requirement already satisfied: snntorch in /home/rishonad/anaconda3/envs/deep_learn/lib/python3.8/site-packages (0.9.1)\n",
      "Requirement already satisfied: torch>=1.1.0 in /home/rishonad/anaconda3/envs/deep_learn/lib/python3.8/site-packages (from snntorch) (2.3.0)\n",
      "Requirement already satisfied: pandas in /home/rishonad/.local/lib/python3.8/site-packages (from snntorch) (2.0.3)\n",
      "Requirement already satisfied: matplotlib in /home/rishonad/.local/lib/python3.8/site-packages (from snntorch) (3.7.4)\n",
      "Requirement already satisfied: numpy>=1.17 in /home/rishonad/.local/lib/python3.8/site-packages (from snntorch) (1.24.4)\n",
      "Requirement already satisfied: nir in /home/rishonad/anaconda3/envs/deep_learn/lib/python3.8/site-packages (from snntorch) (1.0.1)\n",
      "Requirement already satisfied: nirtorch in /home/rishonad/anaconda3/envs/deep_learn/lib/python3.8/site-packages (from snntorch) (1.0)\n",
      "Requirement already satisfied: filelock in /home/rishonad/.local/lib/python3.8/site-packages (from torch>=1.1.0->snntorch) (3.13.1)\n",
      "Requirement already satisfied: typing-extensions>=4.8.0 in /home/rishonad/.local/lib/python3.8/site-packages (from torch>=1.1.0->snntorch) (4.9.0)\n",
      "Requirement already satisfied: sympy in /home/rishonad/.local/lib/python3.8/site-packages (from torch>=1.1.0->snntorch) (1.12)\n",
      "Requirement already satisfied: networkx in /home/rishonad/.local/lib/python3.8/site-packages (from torch>=1.1.0->snntorch) (3.1)\n",
      "Requirement already satisfied: jinja2 in /home/rishonad/.local/lib/python3.8/site-packages (from torch>=1.1.0->snntorch) (3.1.3)\n",
      "Requirement already satisfied: fsspec in /home/rishonad/.local/lib/python3.8/site-packages (from torch>=1.1.0->snntorch) (2023.12.2)\n",
      "Requirement already satisfied: contourpy>=1.0.1 in /home/rishonad/.local/lib/python3.8/site-packages (from matplotlib->snntorch) (1.1.1)\n",
      "Requirement already satisfied: cycler>=0.10 in /home/rishonad/.local/lib/python3.8/site-packages (from matplotlib->snntorch) (0.12.1)\n",
      "Requirement already satisfied: fonttools>=4.22.0 in /home/rishonad/.local/lib/python3.8/site-packages (from matplotlib->snntorch) (4.47.2)\n",
      "Requirement already satisfied: kiwisolver>=1.0.1 in /home/rishonad/.local/lib/python3.8/site-packages (from matplotlib->snntorch) (1.4.5)\n",
      "Requirement already satisfied: packaging>=20.0 in /home/rishonad/.local/lib/python3.8/site-packages (from matplotlib->snntorch) (23.2)\n",
      "Requirement already satisfied: pillow>=6.2.0 in /home/rishonad/anaconda3/envs/deep_learn/lib/python3.8/site-packages (from matplotlib->snntorch) (10.4.0)\n",
      "Requirement already satisfied: pyparsing>=2.3.1 in /home/rishonad/.local/lib/python3.8/site-packages (from matplotlib->snntorch) (3.1.1)\n",
      "Requirement already satisfied: python-dateutil>=2.7 in /home/rishonad/.local/lib/python3.8/site-packages (from matplotlib->snntorch) (2.8.2)\n",
      "Requirement already satisfied: importlib-resources>=3.2.0 in /home/rishonad/.local/lib/python3.8/site-packages (from matplotlib->snntorch) (6.1.1)\n",
      "Requirement already satisfied: h5py in /home/rishonad/anaconda3/envs/deep_learn/lib/python3.8/site-packages (from nir->snntorch) (3.11.0)\n",
      "Requirement already satisfied: pytz>=2020.1 in /home/rishonad/.local/lib/python3.8/site-packages (from pandas->snntorch) (2023.4)\n",
      "Requirement already satisfied: tzdata>=2022.1 in /home/rishonad/.local/lib/python3.8/site-packages (from pandas->snntorch) (2023.4)\n",
      "Requirement already satisfied: zipp>=3.1.0 in /home/rishonad/.local/lib/python3.8/site-packages (from importlib-resources>=3.2.0->matplotlib->snntorch) (3.17.0)\n",
      "Requirement already satisfied: six>=1.5 in /home/rishonad/anaconda3/envs/deep_learn/lib/python3.8/site-packages (from python-dateutil>=2.7->matplotlib->snntorch) (1.16.0)\n",
      "Requirement already satisfied: MarkupSafe>=2.0 in /home/rishonad/.local/lib/python3.8/site-packages (from jinja2->torch>=1.1.0->snntorch) (2.1.4)\n",
      "Requirement already satisfied: mpmath>=0.19 in /home/rishonad/.local/lib/python3.8/site-packages (from sympy->torch>=1.1.0->snntorch) (1.3.0)\n",
      "Note: you may need to restart the kernel to use updated packages.\n"
     ]
    }
   ],
   "source": [
    "pip install snntorch"
   ]
  },
  {
   "cell_type": "code",
   "execution_count": 2,
   "metadata": {
    "id": "ITwVotGhtDrr"
   },
   "outputs": [],
   "source": [
    "# imports\n",
    "import snntorch as snn\n",
    "from snntorch import spikeplot as splt\n",
    "from snntorch import spikegen\n",
    "\n",
    "import torch\n",
    "import torch.nn as nn\n",
    "from torch.utils.data import DataLoader\n",
    "from torchvision import datasets, transforms\n",
    "\n",
    "import matplotlib.pyplot as plt\n",
    "import numpy as np\n",
    "import itertools\n"
   ]
  },
  {
   "cell_type": "code",
   "execution_count": 4,
   "metadata": {
    "id": "WDU2Uqhu0qG_"
   },
   "outputs": [],
   "source": [
    "# dataloader arguments\n",
    "batch_size = 128\n",
    "data_path='/tmp/data/fashionmnist'\n",
    "\n",
    "dtype = torch.float\n",
    "device = torch.device(\"cuda\") if torch.cuda.is_available() else torch.device(\"mps\") if torch.backends.mps.is_available() else torch.device(\"cpu\")\n",
    "\n"
   ]
  },
  {
   "cell_type": "code",
   "execution_count": 5,
   "metadata": {
    "id": "qFF1P5i4ts1S"
   },
   "outputs": [
    {
     "name": "stdout",
     "output_type": "stream",
     "text": [
      "Downloading http://fashion-mnist.s3-website.eu-central-1.amazonaws.com/train-images-idx3-ubyte.gz\n",
      "Downloading http://fashion-mnist.s3-website.eu-central-1.amazonaws.com/train-images-idx3-ubyte.gz to /tmp/data/fashionmnist/FashionMNIST/raw/train-images-idx3-ubyte.gz\n"
     ]
    },
    {
     "name": "stderr",
     "output_type": "stream",
     "text": [
      "100%|█████████████████████████| 26421880/26421880 [00:01<00:00, 17140668.32it/s]\n"
     ]
    },
    {
     "name": "stdout",
     "output_type": "stream",
     "text": [
      "Extracting /tmp/data/fashionmnist/FashionMNIST/raw/train-images-idx3-ubyte.gz to /tmp/data/fashionmnist/FashionMNIST/raw\n",
      "\n",
      "Downloading http://fashion-mnist.s3-website.eu-central-1.amazonaws.com/train-labels-idx1-ubyte.gz\n",
      "Downloading http://fashion-mnist.s3-website.eu-central-1.amazonaws.com/train-labels-idx1-ubyte.gz to /tmp/data/fashionmnist/FashionMNIST/raw/train-labels-idx1-ubyte.gz\n"
     ]
    },
    {
     "name": "stderr",
     "output_type": "stream",
     "text": [
      "100%|█████████████████████████████████| 29515/29515 [00:00<00:00, 484628.20it/s]\n"
     ]
    },
    {
     "name": "stdout",
     "output_type": "stream",
     "text": [
      "Extracting /tmp/data/fashionmnist/FashionMNIST/raw/train-labels-idx1-ubyte.gz to /tmp/data/fashionmnist/FashionMNIST/raw\n",
      "\n",
      "Downloading http://fashion-mnist.s3-website.eu-central-1.amazonaws.com/t10k-images-idx3-ubyte.gz\n",
      "Downloading http://fashion-mnist.s3-website.eu-central-1.amazonaws.com/t10k-images-idx3-ubyte.gz to /tmp/data/fashionmnist/FashionMNIST/raw/t10k-images-idx3-ubyte.gz\n"
     ]
    },
    {
     "name": "stderr",
     "output_type": "stream",
     "text": [
      "100%|████████████████████████████| 4422102/4422102 [00:00<00:00, 8877013.13it/s]\n"
     ]
    },
    {
     "name": "stdout",
     "output_type": "stream",
     "text": [
      "Extracting /tmp/data/fashionmnist/FashionMNIST/raw/t10k-images-idx3-ubyte.gz to /tmp/data/fashionmnist/FashionMNIST/raw\n",
      "\n",
      "Downloading http://fashion-mnist.s3-website.eu-central-1.amazonaws.com/t10k-labels-idx1-ubyte.gz\n",
      "Downloading http://fashion-mnist.s3-website.eu-central-1.amazonaws.com/t10k-labels-idx1-ubyte.gz to /tmp/data/fashionmnist/FashionMNIST/raw/t10k-labels-idx1-ubyte.gz\n"
     ]
    },
    {
     "name": "stderr",
     "output_type": "stream",
     "text": [
      "100%|█████████████████████████████████| 5148/5148 [00:00<00:00, 15302818.56it/s]"
     ]
    },
    {
     "name": "stdout",
     "output_type": "stream",
     "text": [
      "Extracting /tmp/data/fashionmnist/FashionMNIST/raw/t10k-labels-idx1-ubyte.gz to /tmp/data/fashionmnist/FashionMNIST/raw\n",
      "\n"
     ]
    },
    {
     "name": "stderr",
     "output_type": "stream",
     "text": [
      "\n"
     ]
    }
   ],
   "source": [
    "# Define a transform\n",
    "transform = transforms.Compose([\n",
    "            transforms.Resize((28, 28)),\n",
    "            transforms.Grayscale(),\n",
    "            transforms.ToTensor(),\n",
    "            transforms.Normalize((0,), (1,))])\n",
    "\n",
    "fashion_mnist_train = datasets.FashionMNIST(data_path, train=True, download=True, transform=transform)\n",
    "fashion_mnist_test = datasets.FashionMNIST(data_path, train=False, download=True, transform=transform)\n",
    "\n",
    "# Create DataLoaders\n",
    "train_loader = DataLoader(fashion_mnist_train, batch_size=batch_size, shuffle=True, drop_last=True)\n",
    "test_loader = DataLoader(fashion_mnist_test, batch_size=batch_size, shuffle=True, drop_last=True)"
   ]
  },
  {
   "cell_type": "code",
   "execution_count": 6,
   "metadata": {
    "id": "YbD1Uuho03eX"
   },
   "outputs": [],
   "source": [
    "# Network Architecture\n",
    "num_inputs = 28*28\n",
    "num_hidden_1 = 1000\n",
    "#num_hidden_2 = 1000\n",
    "num_outputs = 10\n",
    "\n",
    "# Temporal Dynamics\n",
    "num_steps = 25\n",
    "beta = 1.35"
   ]
  },
  {
   "cell_type": "code",
   "execution_count": 8,
   "metadata": {
    "id": "xVOzq4a6t1PF"
   },
   "outputs": [],
   "source": [
    "class Net(nn.Module):\n",
    "    def __init__(self):\n",
    "        super().__init__()\n",
    "\n",
    "        # Initialize layers\n",
    "        self.fc1 = nn.Linear(num_inputs, num_hidden_1)\n",
    "        self.lif1 = snn.Leaky(beta=beta)\n",
    "        self.fc2 = nn.Linear(num_hidden_1, num_outputs)\n",
    "        self.lif2 = snn.Leaky(beta=beta)\n",
    "\n",
    "    def forward(self, x):\n",
    "\n",
    "        # Initialize hidden states at t=0\n",
    "        mem1 = self.lif1.init_leaky()\n",
    "        mem2 = self.lif2.init_leaky()\n",
    "\n",
    "        # Record the final layer\n",
    "        spk2_rec = []\n",
    "        mem2_rec = []\n",
    "\n",
    "        for step in range(num_steps):\n",
    "            cur1 = self.fc1(x)\n",
    "            spk1, mem1 = self.lif1(cur1, mem1)\n",
    "            cur2 = self.fc2(spk1)\n",
    "            spk2, mem2 = self.lif2(cur2, mem2)\n",
    "            spk2_rec.append(spk2)\n",
    "            mem2_rec.append(mem2)\n",
    "\n",
    "        return torch.stack(spk2_rec, dim=0), torch.stack(mem2_rec, dim=0)\n",
    "\n",
    "# Load the network onto CUDA if available\n",
    "net = Net().to(device)"
   ]
  },
  {
   "cell_type": "code",
   "execution_count": 9,
   "metadata": {
    "id": "KkXwJW1c1D5_"
   },
   "outputs": [],
   "source": [
    "# pass data into the network, sum the spikes over time\n",
    "# and compare the neuron with the highest number of spikes\n",
    "# with the target\n",
    "\n",
    "def print_batch_accuracy(data, targets, train=False):\n",
    "    output, _ = net(data.view(batch_size, -1))\n",
    "    _, idx = output.sum(dim=0).max(1)\n",
    "    acc = np.mean((targets == idx).detach().cpu().numpy())\n",
    "\n",
    "    if train:\n",
    "        print(f\"Train set accuracy for a single minibatch: {acc*100:.2f}%\")\n",
    "    else:\n",
    "        print(f\"Test set accuracy for a single minibatch: {acc*100:.2f}%\")\n",
    "\n",
    "def train_printer():\n",
    "    print(f\"Epoch {epoch}, Iteration {iter_counter}\")\n",
    "    print(f\"Train Set Loss: {loss_hist[counter]:.2f}\")\n",
    "    print(f\"Test Set Loss: {test_loss_hist[counter]:.2f}\")\n",
    "    print_batch_accuracy(data, targets, train=True)\n",
    "    print_batch_accuracy(test_data, test_targets, train=False)\n",
    "    print(\"\\n\")"
   ]
  },
  {
   "cell_type": "code",
   "execution_count": 10,
   "metadata": {
    "colab": {
     "base_uri": "https://localhost:8080/"
    },
    "id": "0Um-UWlI1KJe",
    "outputId": "d9d6008d-fbc2-41a7-d7cf-9ce9f0f119e6"
   },
   "outputs": [
    {
     "name": "stdout",
     "output_type": "stream",
     "text": [
      "torch.Size([25, 128, 10])\n",
      "Training loss: 70.615\n",
      "Train set accuracy for a single minibatch: 14.84%\n"
     ]
    }
   ],
   "source": [
    "loss = nn.CrossEntropyLoss()\n",
    "optimizer = torch.optim.Adam(net.parameters(), lr=5e-4, betas=(0.9, 0.999))\n",
    "\n",
    "data, targets = next(iter(train_loader))\n",
    "data = data.to(device)\n",
    "targets = targets.to(device)\n",
    "\n",
    "spk_rec, mem_rec = net(data.view(batch_size, -1))\n",
    "\n",
    "print(mem_rec.size())\n",
    "\n",
    "# initialize the total loss value\n",
    "loss_val = torch.zeros((1), dtype=dtype, device=device)\n",
    "\n",
    "# sum loss at every step\n",
    "for step in range(num_steps):\n",
    "  loss_val += loss(mem_rec[step], targets)\n",
    "\n",
    "print(f\"Training loss: {loss_val.item():.3f}\")\n",
    "\n",
    "print_batch_accuracy(data, targets, train=True)\n"
   ]
  },
  {
   "cell_type": "code",
   "execution_count": 11,
   "metadata": {
    "colab": {
     "base_uri": "https://localhost:8080/"
    },
    "id": "8DiLad5m1oTn",
    "outputId": "f276d3e4-f08c-4519-d3d2-d053cc27d6bf"
   },
   "outputs": [
    {
     "name": "stdout",
     "output_type": "stream",
     "text": [
      "cpu\n",
      "Training loss: 49.958\n",
      "Train set accuracy for a single minibatch: 37.50%\n"
     ]
    }
   ],
   "source": [
    "# clear previously stored gradients\n",
    "optimizer.zero_grad()\n",
    "\n",
    "# calculate the gradients\n",
    "loss_val.backward()\n",
    "\n",
    "# weight update\n",
    "optimizer.step()\n",
    "print(next(net.parameters()).device)\n",
    "\n",
    "# calculate new network outputs using the same data\n",
    "spk_rec, mem_rec = net(data.view(batch_size, -1))\n",
    "\n",
    "# initialize the total loss value\n",
    "loss_val = torch.zeros((1), dtype=dtype, device=device)\n",
    "\n",
    "# sum loss at every step\n",
    "for step in range(num_steps):\n",
    "  loss_val += loss(mem_rec[step], targets)\n",
    "\n",
    "print(f\"Training loss: {loss_val.item():.3f}\")\n",
    "print_batch_accuracy(data, targets, train=True)"
   ]
  },
  {
   "cell_type": "code",
   "execution_count": 113,
   "metadata": {
    "colab": {
     "base_uri": "https://localhost:8080/"
    },
    "id": "Ph1gwZYJvH2A",
    "outputId": "fae3ae35-a771-4418-a86f-a53dca7d702a"
   },
   "outputs": [
    {
     "name": "stdout",
     "output_type": "stream",
     "text": [
      "Epoch 0, Iteration 0\n",
      "Train Set Loss: 52.68\n",
      "Test Set Loss: 51.46\n",
      "Train set accuracy for a single minibatch: 52.34%\n",
      "Test set accuracy for a single minibatch: 45.31%\n",
      "\n",
      "\n",
      "Epoch 0, Iteration 50\n",
      "Train Set Loss: 22.32\n",
      "Test Set Loss: 22.36\n",
      "Train set accuracy for a single minibatch: 68.75%\n",
      "Test set accuracy for a single minibatch: 68.75%\n",
      "\n",
      "\n",
      "Epoch 0, Iteration 100\n",
      "Train Set Loss: 21.11\n",
      "Test Set Loss: 17.28\n",
      "Train set accuracy for a single minibatch: 72.66%\n",
      "Test set accuracy for a single minibatch: 74.22%\n",
      "\n",
      "\n",
      "Epoch 0, Iteration 150\n",
      "Train Set Loss: 19.43\n",
      "Test Set Loss: 24.93\n",
      "Train set accuracy for a single minibatch: 69.53%\n",
      "Test set accuracy for a single minibatch: 71.09%\n",
      "\n",
      "\n",
      "Epoch 0, Iteration 200\n",
      "Train Set Loss: 17.39\n",
      "Test Set Loss: 17.69\n",
      "Train set accuracy for a single minibatch: 79.69%\n",
      "Test set accuracy for a single minibatch: 76.56%\n",
      "\n",
      "\n",
      "Epoch 0, Iteration 250\n",
      "Train Set Loss: 19.25\n",
      "Test Set Loss: 18.22\n",
      "Train set accuracy for a single minibatch: 82.03%\n",
      "Test set accuracy for a single minibatch: 78.12%\n",
      "\n",
      "\n",
      "Epoch 0, Iteration 300\n",
      "Train Set Loss: 13.44\n",
      "Test Set Loss: 18.84\n",
      "Train set accuracy for a single minibatch: 81.25%\n",
      "Test set accuracy for a single minibatch: 69.53%\n",
      "\n",
      "\n",
      "Epoch 0, Iteration 350\n",
      "Train Set Loss: 15.50\n",
      "Test Set Loss: 14.82\n",
      "Train set accuracy for a single minibatch: 77.34%\n",
      "Test set accuracy for a single minibatch: 71.09%\n",
      "\n",
      "\n",
      "Epoch 0, Iteration 400\n",
      "Train Set Loss: 17.90\n",
      "Test Set Loss: 14.95\n",
      "Train set accuracy for a single minibatch: 82.03%\n",
      "Test set accuracy for a single minibatch: 76.56%\n",
      "\n",
      "\n",
      "Epoch 0, Iteration 450\n",
      "Train Set Loss: 14.92\n",
      "Test Set Loss: 11.78\n",
      "Train set accuracy for a single minibatch: 80.47%\n",
      "Test set accuracy for a single minibatch: 80.47%\n",
      "\n",
      "\n",
      "Epoch 1, Iteration 32\n",
      "Train Set Loss: 11.64\n",
      "Test Set Loss: 11.36\n",
      "Train set accuracy for a single minibatch: 87.50%\n",
      "Test set accuracy for a single minibatch: 86.72%\n",
      "\n",
      "\n",
      "Epoch 1, Iteration 82\n",
      "Train Set Loss: 14.02\n",
      "Test Set Loss: 16.15\n",
      "Train set accuracy for a single minibatch: 85.16%\n",
      "Test set accuracy for a single minibatch: 78.91%\n",
      "\n",
      "\n",
      "Epoch 1, Iteration 132\n",
      "Train Set Loss: 12.91\n",
      "Test Set Loss: 14.99\n",
      "Train set accuracy for a single minibatch: 82.81%\n",
      "Test set accuracy for a single minibatch: 76.56%\n",
      "\n",
      "\n",
      "Epoch 1, Iteration 182\n",
      "Train Set Loss: 12.50\n",
      "Test Set Loss: 17.34\n",
      "Train set accuracy for a single minibatch: 86.72%\n",
      "Test set accuracy for a single minibatch: 75.78%\n",
      "\n",
      "\n",
      "Epoch 1, Iteration 232\n",
      "Train Set Loss: 15.72\n",
      "Test Set Loss: 12.09\n",
      "Train set accuracy for a single minibatch: 82.81%\n",
      "Test set accuracy for a single minibatch: 81.25%\n",
      "\n",
      "\n",
      "Epoch 1, Iteration 282\n",
      "Train Set Loss: 7.71\n",
      "Test Set Loss: 17.16\n",
      "Train set accuracy for a single minibatch: 89.84%\n",
      "Test set accuracy for a single minibatch: 82.81%\n",
      "\n",
      "\n",
      "Epoch 1, Iteration 332\n",
      "Train Set Loss: 9.44\n",
      "Test Set Loss: 12.63\n",
      "Train set accuracy for a single minibatch: 83.59%\n",
      "Test set accuracy for a single minibatch: 82.81%\n",
      "\n",
      "\n",
      "Epoch 1, Iteration 382\n",
      "Train Set Loss: 13.94\n",
      "Test Set Loss: 14.45\n",
      "Train set accuracy for a single minibatch: 82.81%\n",
      "Test set accuracy for a single minibatch: 82.81%\n",
      "\n",
      "\n",
      "Epoch 1, Iteration 432\n",
      "Train Set Loss: 13.31\n",
      "Test Set Loss: 13.60\n",
      "Train set accuracy for a single minibatch: 86.72%\n",
      "Test set accuracy for a single minibatch: 83.59%\n",
      "\n",
      "\n",
      "Epoch 2, Iteration 14\n",
      "Train Set Loss: 7.93\n",
      "Test Set Loss: 11.93\n",
      "Train set accuracy for a single minibatch: 89.06%\n",
      "Test set accuracy for a single minibatch: 86.72%\n",
      "\n",
      "\n",
      "Epoch 2, Iteration 64\n",
      "Train Set Loss: 13.95\n",
      "Test Set Loss: 18.72\n",
      "Train set accuracy for a single minibatch: 86.72%\n",
      "Test set accuracy for a single minibatch: 83.59%\n",
      "\n",
      "\n",
      "Epoch 2, Iteration 114\n",
      "Train Set Loss: 14.59\n",
      "Test Set Loss: 8.71\n",
      "Train set accuracy for a single minibatch: 82.03%\n",
      "Test set accuracy for a single minibatch: 85.94%\n",
      "\n",
      "\n",
      "Epoch 2, Iteration 164\n",
      "Train Set Loss: 10.83\n",
      "Test Set Loss: 11.49\n",
      "Train set accuracy for a single minibatch: 85.16%\n",
      "Test set accuracy for a single minibatch: 86.72%\n",
      "\n",
      "\n",
      "Epoch 2, Iteration 214\n",
      "Train Set Loss: 13.04\n",
      "Test Set Loss: 13.47\n",
      "Train set accuracy for a single minibatch: 84.38%\n",
      "Test set accuracy for a single minibatch: 85.94%\n",
      "\n",
      "\n",
      "Epoch 2, Iteration 264\n",
      "Train Set Loss: 17.84\n",
      "Test Set Loss: 9.48\n",
      "Train set accuracy for a single minibatch: 86.72%\n",
      "Test set accuracy for a single minibatch: 89.06%\n",
      "\n",
      "\n",
      "Epoch 2, Iteration 314\n",
      "Train Set Loss: 10.88\n",
      "Test Set Loss: 11.44\n",
      "Train set accuracy for a single minibatch: 90.62%\n",
      "Test set accuracy for a single minibatch: 88.28%\n",
      "\n",
      "\n",
      "Epoch 2, Iteration 364\n",
      "Train Set Loss: 11.05\n",
      "Test Set Loss: 11.97\n",
      "Train set accuracy for a single minibatch: 86.72%\n",
      "Test set accuracy for a single minibatch: 84.38%\n",
      "\n",
      "\n",
      "Epoch 2, Iteration 414\n",
      "Train Set Loss: 10.51\n",
      "Test Set Loss: 12.21\n",
      "Train set accuracy for a single minibatch: 90.62%\n",
      "Test set accuracy for a single minibatch: 87.50%\n",
      "\n",
      "\n",
      "Epoch 2, Iteration 464\n",
      "Train Set Loss: 8.53\n",
      "Test Set Loss: 17.54\n",
      "Train set accuracy for a single minibatch: 91.41%\n",
      "Test set accuracy for a single minibatch: 78.91%\n",
      "\n",
      "\n"
     ]
    }
   ],
   "source": [
    "num_epochs = 3\n",
    "loss_hist = []\n",
    "test_loss_hist = []\n",
    "counter = 0\n",
    "\n",
    "# Outer training loop\n",
    "for epoch in range(num_epochs):\n",
    "    iter_counter = 0\n",
    "    train_batch = iter(train_loader)\n",
    "\n",
    "    # Minibatch training loop\n",
    "    for data, targets in train_batch:\n",
    "        data = data.to(device)\n",
    "        targets = targets.to(device)\n",
    "\n",
    "        # forward pass\n",
    "        net.train()\n",
    "        spk_rec, mem_rec = net(data.view(batch_size, -1))\n",
    "\n",
    "        # initialize the loss & sum over time\n",
    "        loss_val = torch.zeros((1), dtype=dtype, device=device)\n",
    "        for step in range(num_steps):\n",
    "            loss_val += loss(mem_rec[step], targets)\n",
    "\n",
    "        # Gradient calculation + weight update\n",
    "        optimizer.zero_grad()\n",
    "        loss_val.backward()\n",
    "        optimizer.step()\n",
    "\n",
    "        # Store loss history for future plotting\n",
    "        loss_hist.append(loss_val.item())\n",
    "\n",
    "        # Test set\n",
    "        with torch.no_grad():\n",
    "            net.eval()\n",
    "            test_data, test_targets = next(iter(test_loader))\n",
    "            test_data = test_data.to(device)\n",
    "            test_targets = test_targets.to(device)\n",
    "\n",
    "            # Test set forward pass\n",
    "            test_spk, test_mem = net(test_data.view(batch_size, -1))\n",
    "\n",
    "            # Test set loss\n",
    "            test_loss = torch.zeros((1), dtype=dtype, device=device)\n",
    "            for step in range(num_steps):\n",
    "                test_loss += loss(test_mem[step], test_targets)\n",
    "            test_loss_hist.append(test_loss.item())\n",
    "\n",
    "            # Print train/test loss/accuracy\n",
    "            if counter % 50 == 0:\n",
    "                train_printer()\n",
    "            counter += 1\n",
    "            iter_counter +=1"
   ]
  },
  {
   "cell_type": "code",
   "execution_count": 114,
   "metadata": {
    "colab": {
     "base_uri": "https://localhost:8080/",
     "height": 487
    },
    "id": "i-YTetUG2ANe",
    "outputId": "368720d2-576e-405f-9229-3d4c6d21e589"
   },
   "outputs": [
    {
     "data": {
      "image/png": "[encoded data removed]",
      "text/plain": [
       "<Figure size 1000x500 with 1 Axes>"
      ]
     },
     "metadata": {},
     "output_type": "display_data"
    }
   ],
   "source": [
    "# Plot Loss\n",
    "fig = plt.figure(facecolor=\"w\", figsize=(10, 5))\n",
    "plt.plot(loss_hist)\n",
    "plt.plot(test_loss_hist)\n",
    "plt.title(\"Loss Curves\")\n",
    "plt.legend([\"Train Loss\", \"Test Loss\"])\n",
    "plt.xlabel(\"Iteration\")\n",
    "plt.ylabel(\"Loss\")\n",
    "plt.show()"
   ]
  },
  {
   "cell_type": "code",
   "execution_count": 115,
   "metadata": {
    "id": "xLxk5jTavPlV"
   },
   "outputs": [],
   "source": [
    "total = 0\n",
    "correct = 0\n",
    "\n",
    "# drop_last switched to False to keep all samples\n",
    "test_loader = DataLoader(fashion_mnist_test, batch_size=batch_size, shuffle=True, drop_last=False)\n",
    "\n",
    "with torch.no_grad():\n",
    "  net.eval()\n",
    "  for data, targets in test_loader:\n",
    "    data = data.to(device)\n",
    "    targets = targets.to(device)\n",
    "\n",
    "    # forward pass\n",
    "    test_spk, _ = net(data.view(data.size(0), -1))\n",
    "\n",
    "    # calculate total accuracy\n",
    "    _, predicted = test_spk.sum(dim=0).max(1)\n",
    "    total += targets.size(0)\n",
    "    correct += (predicted == targets).sum().item()"
   ]
  },
  {
   "cell_type": "code",
   "execution_count": 116,
   "metadata": {
    "colab": {
     "base_uri": "https://localhost:8080/"
    },
    "id": "jm1vK5cn2ISK",
    "outputId": "c41cdacc-f9e9-4315-b898-14599a63a121"
   },
   "outputs": [
    {
     "name": "stdout",
     "output_type": "stream",
     "text": [
      "Total correctly classified test set images: 8511/10000\n",
      "Test Set Accuracy: 85.11%\n"
     ]
    }
   ],
   "source": [
    "print(f\"Total correctly classified test set images: {correct}/{total}\")\n",
    "print(f\"Test Set Accuracy: {100 * correct / total:.2f}%\")"
   ]
  },
  {
   "cell_type": "code",
   "execution_count": null,
   "metadata": {},
   "outputs": [],
   "source": []
  },
  {
   "cell_type": "code",
   "execution_count": null,
   "metadata": {},
   "outputs": [],
   "source": []
  }
 ],
 "metadata": {
  "colab": {
   "provenance": []
  },
  "kernelspec": {
   "display_name": "Python 3 (ipykernel)",
   "language": "python",
   "name": "python3"
  },
  "language_info": {
   "codemirror_mode": {
    "name": "ipython",
    "version": 3
   },
   "file_extension": ".py",
   "mimetype": "text/x-python",
   "name": "python",
   "nbconvert_exporter": "python",
   "pygments_lexer": "ipython3",
   "version": "3.8.20"
  }
 },
 "nbformat": 4,
 "nbformat_minor": 4
}
