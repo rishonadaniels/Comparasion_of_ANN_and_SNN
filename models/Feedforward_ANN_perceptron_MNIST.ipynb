{
 "cells": [
  {
   "cell_type": "code",
   "execution_count": 1,
   "metadata": {
    "id": "yxlqSMH5wMlr"
   },
   "outputs": [],
   "source": [
    "import torch\n",
    "import torch.nn as nn\n",
    "import torch.optim as optim\n",
    "from torchvision import datasets, transforms\n",
    "from torch.utils.data import DataLoader\n",
    "import os\n",
    "import time\n"
   ]
  },
  {
   "cell_type": "code",
   "execution_count": 2,
   "metadata": {
    "id": "iqExoBP07HNK"
   },
   "outputs": [],
   "source": [
    "# Define the feedforward neural network\n",
    "class SimpleANN(nn.Module):\n",
    "    def __init__(self, input_size=784, hidden_size=128, num_classes=10):\n",
    "        super(SimpleANN, self).__init__()\n",
    "        self.fc1 = nn.Linear(input_size, hidden_size)\n",
    "        self.relu = nn.ReLU()\n",
    "        self.fc2 = nn.Linear(hidden_size, num_classes)\n",
    "\n",
    "    def forward(self, x):\n",
    "        x = self.fc1(x)\n",
    "        x = self.relu(x)\n",
    "        x = self.fc2(x)\n",
    "        return x\n"
   ]
  },
  {
   "cell_type": "code",
   "execution_count": 3,
   "metadata": {
    "id": "-Kvi-nBu7ORw"
   },
   "outputs": [],
   "source": [
    "# Hyperparameters\n",
    "input_size = 784  # 28x28 images flattened\n",
    "hidden_size = 128\n",
    "num_classes = 10\n",
    "num_epochs = 10\n",
    "batch_size = 64\n",
    "learning_rate = 0.001"
   ]
  },
  {
   "cell_type": "code",
   "execution_count": 4,
   "metadata": {
    "colab": {
     "base_uri": "https://localhost:8080/"
    },
    "id": "xfMXH6iS7UZu",
    "outputId": "22b10b5b-77f0-4cd5-ad1a-c76e1e8c8f7d"
   },
   "outputs": [
    {
     "name": "stdout",
     "output_type": "stream",
     "text": [
      "Downloading http://yann.lecun.com/exdb/mnist/train-images-idx3-ubyte.gz\n",
      "Failed to download (trying next):\n",
      "HTTP Error 404: Not Found\n",
      "\n",
      "Downloading https://ossci-datasets.s3.amazonaws.com/mnist/train-images-idx3-ubyte.gz\n",
      "Downloading https://ossci-datasets.s3.amazonaws.com/mnist/train-images-idx3-ubyte.gz to ./data/MNIST/raw/train-images-idx3-ubyte.gz\n"
     ]
    },
    {
     "name": "stderr",
     "output_type": "stream",
     "text": [
      "100%|█████████████████████████████| 9912422/9912422 [00:34<00:00, 285993.73it/s]\n"
     ]
    },
    {
     "name": "stdout",
     "output_type": "stream",
     "text": [
      "Extracting ./data/MNIST/raw/train-images-idx3-ubyte.gz to ./data/MNIST/raw\n",
      "\n",
      "Downloading http://yann.lecun.com/exdb/mnist/train-labels-idx1-ubyte.gz\n",
      "Failed to download (trying next):\n",
      "HTTP Error 404: Not Found\n",
      "\n",
      "Downloading https://ossci-datasets.s3.amazonaws.com/mnist/train-labels-idx1-ubyte.gz\n",
      "Downloading https://ossci-datasets.s3.amazonaws.com/mnist/train-labels-idx1-ubyte.gz to ./data/MNIST/raw/train-labels-idx1-ubyte.gz\n"
     ]
    },
    {
     "name": "stderr",
     "output_type": "stream",
     "text": [
      "100%|█████████████████████████████████| 28881/28881 [00:00<00:00, 179414.57it/s]\n"
     ]
    },
    {
     "name": "stdout",
     "output_type": "stream",
     "text": [
      "Extracting ./data/MNIST/raw/train-labels-idx1-ubyte.gz to ./data/MNIST/raw\n",
      "\n",
      "Downloading http://yann.lecun.com/exdb/mnist/t10k-images-idx3-ubyte.gz\n",
      "Failed to download (trying next):\n",
      "HTTP Error 404: Not Found\n",
      "\n",
      "Downloading https://ossci-datasets.s3.amazonaws.com/mnist/t10k-images-idx3-ubyte.gz\n",
      "Downloading https://ossci-datasets.s3.amazonaws.com/mnist/t10k-images-idx3-ubyte.gz to ./data/MNIST/raw/t10k-images-idx3-ubyte.gz\n"
     ]
    },
    {
     "name": "stderr",
     "output_type": "stream",
     "text": [
      "100%|█████████████████████████████| 1648877/1648877 [00:07<00:00, 209671.48it/s]\n"
     ]
    },
    {
     "name": "stdout",
     "output_type": "stream",
     "text": [
      "Extracting ./data/MNIST/raw/t10k-images-idx3-ubyte.gz to ./data/MNIST/raw\n",
      "\n",
      "Downloading http://yann.lecun.com/exdb/mnist/t10k-labels-idx1-ubyte.gz\n",
      "Failed to download (trying next):\n",
      "HTTP Error 404: Not Found\n",
      "\n",
      "Downloading https://ossci-datasets.s3.amazonaws.com/mnist/t10k-labels-idx1-ubyte.gz\n",
      "Downloading https://ossci-datasets.s3.amazonaws.com/mnist/t10k-labels-idx1-ubyte.gz to ./data/MNIST/raw/t10k-labels-idx1-ubyte.gz\n"
     ]
    },
    {
     "name": "stderr",
     "output_type": "stream",
     "text": [
      "100%|███████████████████████████████████| 4542/4542 [00:00<00:00, 775136.46it/s]"
     ]
    },
    {
     "name": "stdout",
     "output_type": "stream",
     "text": [
      "Extracting ./data/MNIST/raw/t10k-labels-idx1-ubyte.gz to ./data/MNIST/raw\n",
      "\n"
     ]
    },
    {
     "name": "stderr",
     "output_type": "stream",
     "text": [
      "\n"
     ]
    }
   ],
   "source": [
    "# Load the MNIST dataset\n",
    "transform = transforms.Compose([\n",
    "    transforms.ToTensor(),\n",
    "    transforms.Normalize((0.5,), (0.5,))\n",
    "])\n",
    "\n",
    "train_dataset = datasets.MNIST(root='./data', train=True, transform=transform, download=True)\n",
    "test_dataset = datasets.MNIST(root='./data', train=False, transform=transform, download=True)\n",
    "\n",
    "train_loader = DataLoader(dataset=train_dataset, batch_size=batch_size, shuffle=True)\n",
    "test_loader = DataLoader(dataset=test_dataset, batch_size=batch_size, shuffle=False)"
   ]
  },
  {
   "cell_type": "code",
   "execution_count": 5,
   "metadata": {
    "colab": {
     "base_uri": "https://localhost:8080/"
    },
    "id": "jq-3K7KA7bp7",
    "outputId": "e609b7e9-095d-45a9-c187-fd528638d755"
   },
   "outputs": [
    {
     "name": "stdout",
     "output_type": "stream",
     "text": [
      "Epoch [1/10], Step [100/938], Loss: 0.3967\n",
      "Epoch [1/10], Step [200/938], Loss: 0.4669\n",
      "Epoch [1/10], Step [300/938], Loss: 0.5133\n",
      "Epoch [1/10], Step [400/938], Loss: 0.3334\n",
      "Epoch [1/10], Step [500/938], Loss: 0.3183\n",
      "Epoch [1/10], Step [600/938], Loss: 0.4883\n",
      "Epoch [1/10], Step [700/938], Loss: 0.3142\n",
      "Epoch [1/10], Step [800/938], Loss: 0.3690\n",
      "Epoch [1/10], Step [900/938], Loss: 0.0937\n",
      "Epoch [2/10], Step [100/938], Loss: 0.0834\n",
      "Epoch [2/10], Step [200/938], Loss: 0.2553\n",
      "Epoch [2/10], Step [300/938], Loss: 0.1195\n",
      "Epoch [2/10], Step [400/938], Loss: 0.1268\n",
      "Epoch [2/10], Step [500/938], Loss: 0.3200\n",
      "Epoch [2/10], Step [600/938], Loss: 0.2317\n",
      "Epoch [2/10], Step [700/938], Loss: 0.1409\n",
      "Epoch [2/10], Step [800/938], Loss: 0.1032\n",
      "Epoch [2/10], Step [900/938], Loss: 0.1073\n",
      "Epoch [3/10], Step [100/938], Loss: 0.1596\n",
      "Epoch [3/10], Step [200/938], Loss: 0.2033\n",
      "Epoch [3/10], Step [300/938], Loss: 0.0600\n",
      "Epoch [3/10], Step [400/938], Loss: 0.2193\n",
      "Epoch [3/10], Step [500/938], Loss: 0.1744\n",
      "Epoch [3/10], Step [600/938], Loss: 0.1299\n",
      "Epoch [3/10], Step [700/938], Loss: 0.0781\n",
      "Epoch [3/10], Step [800/938], Loss: 0.0976\n",
      "Epoch [3/10], Step [900/938], Loss: 0.0273\n",
      "Epoch [4/10], Step [100/938], Loss: 0.1301\n",
      "Epoch [4/10], Step [200/938], Loss: 0.1381\n",
      "Epoch [4/10], Step [300/938], Loss: 0.1748\n",
      "Epoch [4/10], Step [400/938], Loss: 0.0635\n",
      "Epoch [4/10], Step [500/938], Loss: 0.1386\n",
      "Epoch [4/10], Step [600/938], Loss: 0.2065\n",
      "Epoch [4/10], Step [700/938], Loss: 0.2004\n",
      "Epoch [4/10], Step [800/938], Loss: 0.1557\n",
      "Epoch [4/10], Step [900/938], Loss: 0.0893\n",
      "Epoch [5/10], Step [100/938], Loss: 0.0604\n",
      "Epoch [5/10], Step [200/938], Loss: 0.1192\n",
      "Epoch [5/10], Step [300/938], Loss: 0.1085\n",
      "Epoch [5/10], Step [400/938], Loss: 0.1110\n",
      "Epoch [5/10], Step [500/938], Loss: 0.0895\n",
      "Epoch [5/10], Step [600/938], Loss: 0.0746\n",
      "Epoch [5/10], Step [700/938], Loss: 0.1210\n",
      "Epoch [5/10], Step [800/938], Loss: 0.0523\n",
      "Epoch [5/10], Step [900/938], Loss: 0.0705\n",
      "Epoch [6/10], Step [100/938], Loss: 0.0534\n",
      "Epoch [6/10], Step [200/938], Loss: 0.0655\n",
      "Epoch [6/10], Step [300/938], Loss: 0.0122\n",
      "Epoch [6/10], Step [400/938], Loss: 0.0557\n",
      "Epoch [6/10], Step [500/938], Loss: 0.2287\n",
      "Epoch [6/10], Step [600/938], Loss: 0.0176\n",
      "Epoch [6/10], Step [700/938], Loss: 0.0993\n",
      "Epoch [6/10], Step [800/938], Loss: 0.1152\n",
      "Epoch [6/10], Step [900/938], Loss: 0.1284\n",
      "Epoch [7/10], Step [100/938], Loss: 0.1086\n",
      "Epoch [7/10], Step [200/938], Loss: 0.1176\n",
      "Epoch [7/10], Step [300/938], Loss: 0.0406\n",
      "Epoch [7/10], Step [400/938], Loss: 0.0820\n",
      "Epoch [7/10], Step [500/938], Loss: 0.2396\n",
      "Epoch [7/10], Step [600/938], Loss: 0.0091\n",
      "Epoch [7/10], Step [700/938], Loss: 0.0372\n",
      "Epoch [7/10], Step [800/938], Loss: 0.1028\n",
      "Epoch [7/10], Step [900/938], Loss: 0.0705\n",
      "Epoch [8/10], Step [100/938], Loss: 0.1755\n",
      "Epoch [8/10], Step [200/938], Loss: 0.0657\n",
      "Epoch [8/10], Step [300/938], Loss: 0.0376\n",
      "Epoch [8/10], Step [400/938], Loss: 0.0620\n",
      "Epoch [8/10], Step [500/938], Loss: 0.0553\n",
      "Epoch [8/10], Step [600/938], Loss: 0.1022\n",
      "Epoch [8/10], Step [700/938], Loss: 0.0523\n",
      "Epoch [8/10], Step [800/938], Loss: 0.0791\n",
      "Epoch [8/10], Step [900/938], Loss: 0.0593\n",
      "Epoch [9/10], Step [100/938], Loss: 0.0217\n",
      "Epoch [9/10], Step [200/938], Loss: 0.1501\n",
      "Epoch [9/10], Step [300/938], Loss: 0.0443\n",
      "Epoch [9/10], Step [400/938], Loss: 0.0193\n",
      "Epoch [9/10], Step [500/938], Loss: 0.0136\n",
      "Epoch [9/10], Step [600/938], Loss: 0.0143\n",
      "Epoch [9/10], Step [700/938], Loss: 0.1619\n",
      "Epoch [9/10], Step [800/938], Loss: 0.0740\n",
      "Epoch [9/10], Step [900/938], Loss: 0.0252\n",
      "Epoch [10/10], Step [100/938], Loss: 0.0456\n",
      "Epoch [10/10], Step [200/938], Loss: 0.0786\n",
      "Epoch [10/10], Step [300/938], Loss: 0.0874\n",
      "Epoch [10/10], Step [400/938], Loss: 0.0231\n",
      "Epoch [10/10], Step [500/938], Loss: 0.0297\n",
      "Epoch [10/10], Step [600/938], Loss: 0.0323\n",
      "Epoch [10/10], Step [700/938], Loss: 0.1173\n",
      "Epoch [10/10], Step [800/938], Loss: 0.0585\n",
      "Epoch [10/10], Step [900/938], Loss: 0.0586\n",
      "Training time: 99.23 seconds\n",
      "Accuracy on the test set: 97.49%\n",
      "Inference time: 1.34 seconds for the entire test set\n",
      "Inference time per sample: 0.000134 seconds\n"
     ]
    }
   ],
   "source": [
    "# Initialize the model, loss function, and optimizer\n",
    "model = SimpleANN(input_size, hidden_size, num_classes)\n",
    "criterion = nn.CrossEntropyLoss()\n",
    "optimizer = optim.Adam(model.parameters(), lr=learning_rate)\n",
    "\n",
    "\n",
    "def train():\n",
    "    model.train()\n",
    "    for epoch in range(num_epochs):\n",
    "        for batch_idx, (images, labels) in enumerate(train_loader):\n",
    "            # Flatten images from (batch_size, 1, 28, 28) to (batch_size, 784)\n",
    "            images = images.view(-1, 28*28)\n",
    "\n",
    "            # Forward pass\n",
    "            outputs = model(images)\n",
    "            loss = criterion(outputs, labels)\n",
    "\n",
    "            # Backward pass and optimization\n",
    "            optimizer.zero_grad()\n",
    "            loss.backward()\n",
    "            optimizer.step()\n",
    "\n",
    "\n",
    "            if (batch_idx + 1) % 100 == 0:\n",
    "                print(f'Epoch [{epoch+1}/{num_epochs}], Step [{batch_idx+1}/{len(train_loader)}], Loss: {loss.item():.4f}')\n",
    "\n",
    "\n",
    "def test():\n",
    "    model.eval()\n",
    "    correct = 0\n",
    "    total = 0\n",
    "    with torch.no_grad():\n",
    "        for images, labels in test_loader:\n",
    "            images = images.view(-1, 28*28)\n",
    "            outputs = model(images)\n",
    "            _, predicted = torch.max(outputs.data, 1)\n",
    "            total += labels.size(0)\n",
    "            correct += (predicted == labels).sum().item()\n",
    "\n",
    "    print(f'Accuracy on the test set: {100 * correct / total:.2f}%')\n",
    "\n",
    "\n",
    "if __name__ == \"__main__\":\n",
    "    import time\n",
    "\n",
    "    # Measure training time\n",
    "    start_time = time.time()\n",
    "    train()\n",
    "    end_time = time.time()\n",
    "\n",
    "    training_time = end_time - start_time\n",
    "    print(f\"Training time: {training_time:.2f} seconds\")\n",
    "\n",
    "    # Measure inference time\n",
    "    start_time = time.time()\n",
    "    test()\n",
    "    end_time = time.time()\n",
    "\n",
    "    inference_time = end_time - start_time\n",
    "    print(f\"Inference time: {inference_time:.2f} seconds for the entire test set\")\n",
    "\n",
    "    per_sample_inference_time = inference_time / len(test_dataset)\n",
    "    print(f\"Inference time per sample: {per_sample_inference_time:.6f} seconds\")\n",
    "\n"
   ]
  },
  {
   "cell_type": "code",
   "execution_count": 6,
   "metadata": {
    "colab": {
     "base_uri": "https://localhost:8080/"
    },
    "id": "sevhNJvD-3mR",
    "outputId": "3bc82ca9-849f-429c-b654-ade25c502c28"
   },
   "outputs": [
    {
     "name": "stdout",
     "output_type": "stream",
     "text": [
      "Model size: 0.39 MB\n"
     ]
    }
   ],
   "source": [
    "\n",
    "\n",
    "# Save the model to a file\n",
    "model_path = \"simple_ann.pth\"\n",
    "torch.save(model.state_dict(), model_path)\n",
    "\n",
    "# Measure the size of the model file\n",
    "model_size = os.path.getsize(model_path) / (1024 * 1024)  # Convert bytes to MB\n",
    "print(f\"Model size: {model_size:.2f} MB\")"
   ]
  }
 ],
 "metadata": {
  "colab": {
   "provenance": []
  },
  "kernelspec": {
   "display_name": "Python 3 (ipykernel)",
   "language": "python",
   "name": "python3"
  },
  "language_info": {
   "codemirror_mode": {
    "name": "ipython",
    "version": 3
   },
   "file_extension": ".py",
   "mimetype": "text/x-python",
   "name": "python",
   "nbconvert_exporter": "python",
   "pygments_lexer": "ipython3",
   "version": "3.8.20"
  }
 },
 "nbformat": 4,
 "nbformat_minor": 4
}
